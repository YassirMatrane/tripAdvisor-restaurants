{
 "cells": [
  {
   "cell_type": "code",
   "execution_count": null,
   "metadata": {},
   "outputs": [
    {
     "name": "stderr",
     "output_type": "stream",
     "text": [
      "Using TensorFlow backend.\n",
      "C:\\Users\\Zouheir\\AppData\\Local\\conda\\conda\\envs\\opencv-env\\lib\\site-packages\\tensorflow\\python\\framework\\dtypes.py:516: FutureWarning: Passing (type, 1) or '1type' as a synonym of type is deprecated; in a future version of numpy, it will be understood as (type, (1,)) / '(1,)type'.\n",
      "  _np_qint8 = np.dtype([(\"qint8\", np.int8, 1)])\n",
      "C:\\Users\\Zouheir\\AppData\\Local\\conda\\conda\\envs\\opencv-env\\lib\\site-packages\\tensorflow\\python\\framework\\dtypes.py:517: FutureWarning: Passing (type, 1) or '1type' as a synonym of type is deprecated; in a future version of numpy, it will be understood as (type, (1,)) / '(1,)type'.\n",
      "  _np_quint8 = np.dtype([(\"quint8\", np.uint8, 1)])\n",
      "C:\\Users\\Zouheir\\AppData\\Local\\conda\\conda\\envs\\opencv-env\\lib\\site-packages\\tensorflow\\python\\framework\\dtypes.py:518: FutureWarning: Passing (type, 1) or '1type' as a synonym of type is deprecated; in a future version of numpy, it will be understood as (type, (1,)) / '(1,)type'.\n",
      "  _np_qint16 = np.dtype([(\"qint16\", np.int16, 1)])\n",
      "C:\\Users\\Zouheir\\AppData\\Local\\conda\\conda\\envs\\opencv-env\\lib\\site-packages\\tensorflow\\python\\framework\\dtypes.py:519: FutureWarning: Passing (type, 1) or '1type' as a synonym of type is deprecated; in a future version of numpy, it will be understood as (type, (1,)) / '(1,)type'.\n",
      "  _np_quint16 = np.dtype([(\"quint16\", np.uint16, 1)])\n",
      "C:\\Users\\Zouheir\\AppData\\Local\\conda\\conda\\envs\\opencv-env\\lib\\site-packages\\tensorflow\\python\\framework\\dtypes.py:520: FutureWarning: Passing (type, 1) or '1type' as a synonym of type is deprecated; in a future version of numpy, it will be understood as (type, (1,)) / '(1,)type'.\n",
      "  _np_qint32 = np.dtype([(\"qint32\", np.int32, 1)])\n",
      "C:\\Users\\Zouheir\\AppData\\Local\\conda\\conda\\envs\\opencv-env\\lib\\site-packages\\tensorflow\\python\\framework\\dtypes.py:525: FutureWarning: Passing (type, 1) or '1type' as a synonym of type is deprecated; in a future version of numpy, it will be understood as (type, (1,)) / '(1,)type'.\n",
      "  np_resource = np.dtype([(\"resource\", np.ubyte, 1)])\n"
     ]
    }
   ],
   "source": [
    "import pandas as pd\n",
    "from sklearn.decomposition import PCA\n",
    "from sklearn.cluster import KMeans\n",
    "import seaborn as sns\n",
    "import matplotlib.pyplot as plt\n",
    "plt.style.use('ggplot')\n",
    "import numpy as np\n",
    "import json\n",
    "from fancyimpute import KNN    \n",
    "\n",
    "palette = \"rainbow_r\""
   ]
  },
  {
   "cell_type": "code",
   "execution_count": null,
   "metadata": {},
   "outputs": [],
   "source": [
    "df = pd.read_csv('TA_restaurants_curated.csv', index_col='Unnamed: 0')\n",
    "df.head()"
   ]
  },
  {
   "cell_type": "code",
   "execution_count": null,
   "metadata": {},
   "outputs": [],
   "source": [
    "df = df[['Name', 'City', 'Cuisine Style', 'Ranking', 'Rating', 'Price Range']]\n",
    "df.loc[df['City'] == 'Oporto', 'City'] = 'Porto'\n",
    "df.info()"
   ]
  },
  {
   "cell_type": "code",
   "execution_count": null,
   "metadata": {},
   "outputs": [],
   "source": [
    "geoloc = pd.read_csv('worldcities.csv', index_col=None)\n",
    "more_cities = pd.DataFrame([{'city': 'Zurich', 'lat':47.3769, 'lng':8.5417, 'country':'Switzerland'}, \n",
    "                            {'city': 'Krakow', 'lat':50.0647, 'lng':19.9450, 'country':'Poland'}])\n",
    "geoloc = pd.concat([geoloc, more_cities], sort=True)"
   ]
  },
  {
   "cell_type": "code",
   "execution_count": null,
   "metadata": {},
   "outputs": [],
   "source": [
    "cities = list(np.unique(df['City'].values))\n",
    "for c in cities:\n",
    "    try:\n",
    "        df.loc[df['City'] == c, 'Latitude'] = geoloc.loc[geoloc.city == c]['lat'].values[0]\n",
    "        df.loc[df['City'] == c, 'Longitude'] = geoloc.loc[geoloc.city == c]['lng'].values[0]\n",
    "        df.loc[df['City'] == c, 'Country'] = geoloc.loc[geoloc.city == c]['country'].values[0]\n",
    "    except:\n",
    "        pass\n",
    "    \n",
    "df.head()"
   ]
  },
  {
   "cell_type": "markdown",
   "metadata": {},
   "source": [
    "# Data analysis"
   ]
  },
  {
   "cell_type": "code",
   "execution_count": null,
   "metadata": {},
   "outputs": [],
   "source": [
    "fig, ax = plt.subplots(figsize=(18, 11))\n",
    "sns.heatmap(df.isnull().transpose())"
   ]
  },
  {
   "cell_type": "code",
   "execution_count": null,
   "metadata": {},
   "outputs": [],
   "source": [
    "df_corr = df.corr()\n",
    "fig, ax = plt.subplots(figsize=(18, 11))\n",
    "sns.heatmap(df_corr, ax=ax, cmap='Purples')"
   ]
  },
  {
   "cell_type": "code",
   "execution_count": null,
   "metadata": {},
   "outputs": [],
   "source": [
    "df = df.dropna(axis='index', how='all')\n",
    "df.info()"
   ]
  },
  {
   "cell_type": "code",
   "execution_count": null,
   "metadata": {},
   "outputs": [],
   "source": [
    "df = df.dropna(axis='index', subset=['Cuisine Style'])\n",
    "df.info()"
   ]
  },
  {
   "cell_type": "code",
   "execution_count": null,
   "metadata": {
    "scrolled": false
   },
   "outputs": [],
   "source": [
    "df['Rating'] = df['Rating'].interpolate().astype(int)\n",
    "df = df[df['Rating'] >= 0]\n",
    "list(np.unique(np.array([x for x in df['Rating'].values if x != np.nan])))"
   ]
  },
  {
   "cell_type": "code",
   "execution_count": null,
   "metadata": {},
   "outputs": [],
   "source": [
    "knnOutput = KNN(k=5).complete(mydata)"
   ]
  },
  {
   "cell_type": "code",
   "execution_count": null,
   "metadata": {},
   "outputs": [],
   "source": [
    "df['Ranking'] = df['Ranking'].fillna(df['Ranking'].max()+1)"
   ]
  },
  {
   "cell_type": "code",
   "execution_count": null,
   "metadata": {},
   "outputs": [],
   "source": [
    "#Binarizing 'Cuisine Style' column\n",
    "styles = set()\n",
    "for list1 in df['Cuisine Style'].values:\n",
    "    try:\n",
    "        styles = styles.union({s.replace(\"'\", \"\") for s in  list1.strip('][').split(', ')})\n",
    "    except:\n",
    "        pass\n",
    "    \n",
    "styles = sorted(list(styles))\n",
    "df_cs =  df[['Name','City']].copy()\n",
    "for style in styles:\n",
    "    df_cs[style] = df['Cuisine Style'].str.contains(\"'{}'\".format(style), na=False, regex=False)\n",
    "    df_cs.loc[df_cs[style] == False, style] = 0\n",
    "    df_cs.loc[df_cs[style] == True, style] = 1"
   ]
  },
  {
   "cell_type": "code",
   "execution_count": null,
   "metadata": {},
   "outputs": [],
   "source": [
    "df['Number of styles'] = df_cs[styles].sum(axis=1)\n",
    "df_cs['Number of styles'] = df_cs[styles].sum(axis=1)\n",
    "df.drop(['Cuisine Style'], axis=1, inplace=True)"
   ]
  },
  {
   "cell_type": "code",
   "execution_count": null,
   "metadata": {},
   "outputs": [],
   "source": [
    "#Cleaning Price Range\n",
    "prange_dict = {1:'$', 2:'$$ - $$$', 3:'$$$$'}\n",
    "for k, v in prange_dict.items():\n",
    "    df.loc[df['Price Range'] == v, 'Price Range'] = k\n",
    "    \n",
    "df['Price Range'] = df['Price Range'].fillna(0)"
   ]
  },
  {
   "cell_type": "code",
   "execution_count": null,
   "metadata": {},
   "outputs": [],
   "source": [
    "kmeans = KMeans(n_clusters=5)\n",
    "kmeans.fit(df.drop(['Name', 'Country', 'City', 'Rating'], axis=1).values)\n",
    "df['Cluster ID'] = kmeans.labels_"
   ]
  },
  {
   "cell_type": "code",
   "execution_count": null,
   "metadata": {},
   "outputs": [],
   "source": [
    "df.info()"
   ]
  },
  {
   "cell_type": "code",
   "execution_count": null,
   "metadata": {},
   "outputs": [],
   "source": [
    "df_corr = df.corr()\n",
    "fig, ax = plt.subplots(figsize=(18, 11))\n",
    "sns.heatmap(df_corr, ax=ax, cmap='Purples')"
   ]
  },
  {
   "cell_type": "code",
   "execution_count": null,
   "metadata": {},
   "outputs": [],
   "source": [
    "city_features = [x for x in df.columns if x not in ['Cluster ID', 'City']]\n",
    "sns.pairplot(df, \n",
    "             diag_kind='hist', \n",
    "             hue='Cluster ID')"
   ]
  },
  {
   "cell_type": "markdown",
   "metadata": {},
   "source": [
    "# Analysis by city"
   ]
  },
  {
   "cell_type": "code",
   "execution_count": null,
   "metadata": {},
   "outputs": [],
   "source": [
    "df_city = df.groupby('City').mean()\n",
    "df_city['Restaurant Count'] = df.groupby('City').count()['Name']\n",
    "df_city['Number of styles'] = df_cs.groupby('City').max()[styles].sum(axis=1)\n",
    "df_city['Price Range'] = df.groupby('City').median()['Price Range']\n",
    "df_city['Cluster ID'] = df.groupby('City').median()['Cluster ID'].astype(str)\n",
    "df_city.index.name = None\n",
    "df_city['City'] = df_city.index"
   ]
  },
  {
   "cell_type": "code",
   "execution_count": null,
   "metadata": {},
   "outputs": [],
   "source": [
    "df_city.info()"
   ]
  },
  {
   "cell_type": "code",
   "execution_count": null,
   "metadata": {},
   "outputs": [],
   "source": [
    "city_features = [x for x in df_city.columns if x not in ['Cluster ID', 'City']]\n",
    "sns.pairplot(df_city, \n",
    "             vars=city_features, \n",
    "             diag_kind='hist', \n",
    "             hue='Cluster ID')"
   ]
  },
  {
   "cell_type": "code",
   "execution_count": null,
   "metadata": {},
   "outputs": [],
   "source": [
    "df_city_corr = df_city.corr()\n",
    "fig, ax = plt.subplots(figsize=(18, 11))\n",
    "sns.heatmap(df_city_corr, ax=ax, cmap='Purples')"
   ]
  },
  {
   "cell_type": "code",
   "execution_count": null,
   "metadata": {},
   "outputs": [],
   "source": [
    "df_city_normalized = df_city.copy()\n",
    "df_city_normalized['Restaurant Count'] = (df_city['Restaurant Count'] - df_city['Restaurant Count'].min())/(df_city['Restaurant Count'].max() - df_city['Restaurant Count'].min())\n",
    "df_city_normalized['Number of styles'] = (df_city['Number of styles'] - df_city['Number of styles'].min())/(df_city['Number of styles'].max() - df_city['Number of styles'].min())\n",
    "df_city_normalized['Rating'] = (df_city['Rating'] - df_city['Rating'].min())/(df_city['Rating'].max() - df_city['Rating'].min())\n",
    "\n",
    "ax = df_city_normalized.plot.barh(x='City', y=['Rating','Restaurant Count', 'Number of styles'], figsize=(18, 18))\n",
    "ax.set_xlim([-0.005, 1.1])\n",
    "ax = ax.set_yticklabels(df_city_normalized.index)"
   ]
  },
  {
   "cell_type": "code",
   "execution_count": null,
   "metadata": {},
   "outputs": [],
   "source": [
    "fig, ax = plt.subplots(figsize=(12, 12))\n",
    "sns.kdeplot(df_city['Number of styles'], df_city['Ranking'], shade=True, alpha=0.9, ax=ax, cmap='rainbow')"
   ]
  },
  {
   "cell_type": "code",
   "execution_count": null,
   "metadata": {},
   "outputs": [],
   "source": [
    "fig, ax = plt.subplots(figsize=(12, 12))\n",
    "sns.kdeplot(df_city['Cluster ID'], df_city['Ranking'], shade=True, alpha=0.9, ax=ax, cmap='rainbow')"
   ]
  },
  {
   "cell_type": "code",
   "execution_count": null,
   "metadata": {},
   "outputs": [],
   "source": [
    "fig, ax = plt.subplots(figsize=(12, 12))\n",
    "sns.scatterplot(x=\"Longitude\", y=\"Latitude\", data=df_city, \n",
    "                size=\"Number of styles\", hue=\"Price Range\", \n",
    "                sizes=(40,200), palette=palette, ax=ax)"
   ]
  },
  {
   "cell_type": "code",
   "execution_count": null,
   "metadata": {},
   "outputs": [],
   "source": [
    "fig, ax = plt.subplots(figsize=(12, 12))\n",
    "sns.scatterplot(x=\"Longitude\", y=\"Latitude\", data=df_city, \n",
    "                size=\"Number of styles\", hue=\"Cluster ID\", style=\"Cluster ID\", palette=\"rainbow_r\",\n",
    "                sizes=(5,200), ax=ax, edgecolor=None)"
   ]
  }
 ],
 "metadata": {
  "kernelspec": {
   "display_name": "Python 3",
   "language": "python",
   "name": "python3"
  },
  "language_info": {
   "codemirror_mode": {
    "name": "ipython",
    "version": 3
   },
   "file_extension": ".py",
   "mimetype": "text/x-python",
   "name": "python",
   "nbconvert_exporter": "python",
   "pygments_lexer": "ipython3",
   "version": "3.6.8"
  }
 },
 "nbformat": 4,
 "nbformat_minor": 2
}
