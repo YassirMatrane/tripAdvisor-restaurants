{
 "cells": [
  {
   "cell_type": "code",
   "execution_count": 1,
   "metadata": {},
   "outputs": [],
   "source": [
    "import pandas as pd\n",
    "from sklearn.decomposition import PCA\n",
    "from sklearn.cluster import KMeans\n",
    "import seaborn as sb\n",
    "import matplotlib.pyplot as plt\n",
    "from matplotlib import cm\n",
    "import numpy as np\n",
    "import json\n",
    "from plots import *"
   ]
  },
  {
   "cell_type": "code",
   "execution_count": 2,
   "metadata": {},
   "outputs": [
    {
     "data": {
      "text/html": [
       "<div>\n",
       "<style scoped>\n",
       "    .dataframe tbody tr th:only-of-type {\n",
       "        vertical-align: middle;\n",
       "    }\n",
       "\n",
       "    .dataframe tbody tr th {\n",
       "        vertical-align: top;\n",
       "    }\n",
       "\n",
       "    .dataframe thead th {\n",
       "        text-align: right;\n",
       "    }\n",
       "</style>\n",
       "<table border=\"1\" class=\"dataframe\">\n",
       "  <thead>\n",
       "    <tr style=\"text-align: right;\">\n",
       "      <th></th>\n",
       "      <th>Name</th>\n",
       "      <th>City</th>\n",
       "      <th>Cuisine Style</th>\n",
       "      <th>Ranking</th>\n",
       "      <th>Rating</th>\n",
       "      <th>Price Range</th>\n",
       "      <th>Number of Reviews</th>\n",
       "      <th>Reviews</th>\n",
       "      <th>URL_TA</th>\n",
       "      <th>ID_TA</th>\n",
       "    </tr>\n",
       "  </thead>\n",
       "  <tbody>\n",
       "    <tr>\n",
       "      <th>0</th>\n",
       "      <td>Martine of Martine's Table</td>\n",
       "      <td>Amsterdam</td>\n",
       "      <td>['French', 'Dutch', 'European']</td>\n",
       "      <td>1.0</td>\n",
       "      <td>5.0</td>\n",
       "      <td>$$ - $$$</td>\n",
       "      <td>136.0</td>\n",
       "      <td>[['Just like home', 'A Warm Welcome to Wintry ...</td>\n",
       "      <td>/Restaurant_Review-g188590-d11752080-Reviews-M...</td>\n",
       "      <td>d11752080</td>\n",
       "    </tr>\n",
       "    <tr>\n",
       "      <th>1</th>\n",
       "      <td>De Silveren Spiegel</td>\n",
       "      <td>Amsterdam</td>\n",
       "      <td>['Dutch', 'European', 'Vegetarian Friendly', '...</td>\n",
       "      <td>2.0</td>\n",
       "      <td>4.5</td>\n",
       "      <td>$$$$</td>\n",
       "      <td>812.0</td>\n",
       "      <td>[['Great food and staff', 'just perfect'], ['0...</td>\n",
       "      <td>/Restaurant_Review-g188590-d693419-Reviews-De_...</td>\n",
       "      <td>d693419</td>\n",
       "    </tr>\n",
       "    <tr>\n",
       "      <th>2</th>\n",
       "      <td>La Rive</td>\n",
       "      <td>Amsterdam</td>\n",
       "      <td>['Mediterranean', 'French', 'International', '...</td>\n",
       "      <td>3.0</td>\n",
       "      <td>4.5</td>\n",
       "      <td>$$$$</td>\n",
       "      <td>567.0</td>\n",
       "      <td>[['Satisfaction', 'Delicious old school restau...</td>\n",
       "      <td>/Restaurant_Review-g188590-d696959-Reviews-La_...</td>\n",
       "      <td>d696959</td>\n",
       "    </tr>\n",
       "    <tr>\n",
       "      <th>3</th>\n",
       "      <td>Vinkeles</td>\n",
       "      <td>Amsterdam</td>\n",
       "      <td>['French', 'European', 'International', 'Conte...</td>\n",
       "      <td>4.0</td>\n",
       "      <td>5.0</td>\n",
       "      <td>$$$$</td>\n",
       "      <td>564.0</td>\n",
       "      <td>[['True five star dinner', 'A superb evening o...</td>\n",
       "      <td>/Restaurant_Review-g188590-d1239229-Reviews-Vi...</td>\n",
       "      <td>d1239229</td>\n",
       "    </tr>\n",
       "    <tr>\n",
       "      <th>4</th>\n",
       "      <td>Librije's Zusje Amsterdam</td>\n",
       "      <td>Amsterdam</td>\n",
       "      <td>['Dutch', 'European', 'International', 'Vegeta...</td>\n",
       "      <td>5.0</td>\n",
       "      <td>4.5</td>\n",
       "      <td>$$$$</td>\n",
       "      <td>316.0</td>\n",
       "      <td>[['Best meal.... EVER', 'super food experience...</td>\n",
       "      <td>/Restaurant_Review-g188590-d6864170-Reviews-Li...</td>\n",
       "      <td>d6864170</td>\n",
       "    </tr>\n",
       "  </tbody>\n",
       "</table>\n",
       "</div>"
      ],
      "text/plain": [
       "                         Name       City  \\\n",
       "0  Martine of Martine's Table  Amsterdam   \n",
       "1         De Silveren Spiegel  Amsterdam   \n",
       "2                     La Rive  Amsterdam   \n",
       "3                    Vinkeles  Amsterdam   \n",
       "4   Librije's Zusje Amsterdam  Amsterdam   \n",
       "\n",
       "                                       Cuisine Style  Ranking  Rating  \\\n",
       "0                    ['French', 'Dutch', 'European']      1.0     5.0   \n",
       "1  ['Dutch', 'European', 'Vegetarian Friendly', '...      2.0     4.5   \n",
       "2  ['Mediterranean', 'French', 'International', '...      3.0     4.5   \n",
       "3  ['French', 'European', 'International', 'Conte...      4.0     5.0   \n",
       "4  ['Dutch', 'European', 'International', 'Vegeta...      5.0     4.5   \n",
       "\n",
       "  Price Range  Number of Reviews  \\\n",
       "0    $$ - $$$              136.0   \n",
       "1        $$$$              812.0   \n",
       "2        $$$$              567.0   \n",
       "3        $$$$              564.0   \n",
       "4        $$$$              316.0   \n",
       "\n",
       "                                             Reviews  \\\n",
       "0  [['Just like home', 'A Warm Welcome to Wintry ...   \n",
       "1  [['Great food and staff', 'just perfect'], ['0...   \n",
       "2  [['Satisfaction', 'Delicious old school restau...   \n",
       "3  [['True five star dinner', 'A superb evening o...   \n",
       "4  [['Best meal.... EVER', 'super food experience...   \n",
       "\n",
       "                                              URL_TA      ID_TA  \n",
       "0  /Restaurant_Review-g188590-d11752080-Reviews-M...  d11752080  \n",
       "1  /Restaurant_Review-g188590-d693419-Reviews-De_...    d693419  \n",
       "2  /Restaurant_Review-g188590-d696959-Reviews-La_...    d696959  \n",
       "3  /Restaurant_Review-g188590-d1239229-Reviews-Vi...   d1239229  \n",
       "4  /Restaurant_Review-g188590-d6864170-Reviews-Li...   d6864170  "
      ]
     },
     "execution_count": 2,
     "metadata": {},
     "output_type": "execute_result"
    }
   ],
   "source": [
    "df = pd.read_csv('TA_restaurants_curated.csv', index_col='Unnamed: 0')\n",
    "df.head()"
   ]
  },
  {
   "cell_type": "code",
   "execution_count": 3,
   "metadata": {},
   "outputs": [
    {
     "name": "stdout",
     "output_type": "stream",
     "text": [
      "<class 'pandas.core.frame.DataFrame'>\n",
      "Int64Index: 125527 entries, 0 to 1666\n",
      "Data columns (total 6 columns):\n",
      "Name             125527 non-null object\n",
      "City             125527 non-null object\n",
      "Cuisine Style    94176 non-null object\n",
      "Ranking          115876 non-null float64\n",
      "Rating           115897 non-null float64\n",
      "Price Range      77672 non-null object\n",
      "dtypes: float64(2), object(4)\n",
      "memory usage: 6.7+ MB\n"
     ]
    }
   ],
   "source": [
    "df = df[['Name', 'City', 'Cuisine Style', 'Ranking', 'Rating', 'Price Range']]\n",
    "df.loc[df['City'] == 'Oporto', 'City'] = 'Porto'\n",
    "df.info()"
   ]
  },
  {
   "cell_type": "code",
   "execution_count": 4,
   "metadata": {},
   "outputs": [],
   "source": [
    "geoloc = pd.read_csv('worldcities.csv', index_col=None)\n",
    "more_cities = pd.DataFrame([{'city': 'Zurich', 'lat':47.3769, 'lng':8.5417, 'country':'Switzerland'}, \n",
    "                            {'city': 'Krakow', 'lat':50.0647, 'lng':19.9450, 'country':'Poland'}])\n",
    "geoloc = pd.concat([geoloc, more_cities], sort=True)"
   ]
  },
  {
   "cell_type": "code",
   "execution_count": 5,
   "metadata": {},
   "outputs": [
    {
     "data": {
      "text/html": [
       "<div>\n",
       "<style scoped>\n",
       "    .dataframe tbody tr th:only-of-type {\n",
       "        vertical-align: middle;\n",
       "    }\n",
       "\n",
       "    .dataframe tbody tr th {\n",
       "        vertical-align: top;\n",
       "    }\n",
       "\n",
       "    .dataframe thead th {\n",
       "        text-align: right;\n",
       "    }\n",
       "</style>\n",
       "<table border=\"1\" class=\"dataframe\">\n",
       "  <thead>\n",
       "    <tr style=\"text-align: right;\">\n",
       "      <th></th>\n",
       "      <th>Name</th>\n",
       "      <th>City</th>\n",
       "      <th>Cuisine Style</th>\n",
       "      <th>Ranking</th>\n",
       "      <th>Rating</th>\n",
       "      <th>Price Range</th>\n",
       "      <th>Latitude</th>\n",
       "      <th>Longitude</th>\n",
       "      <th>Country</th>\n",
       "    </tr>\n",
       "  </thead>\n",
       "  <tbody>\n",
       "    <tr>\n",
       "      <th>0</th>\n",
       "      <td>Martine of Martine's Table</td>\n",
       "      <td>Amsterdam</td>\n",
       "      <td>['French', 'Dutch', 'European']</td>\n",
       "      <td>1.0</td>\n",
       "      <td>5.0</td>\n",
       "      <td>$$ - $$$</td>\n",
       "      <td>52.35</td>\n",
       "      <td>4.9166</td>\n",
       "      <td>Netherlands</td>\n",
       "    </tr>\n",
       "    <tr>\n",
       "      <th>1</th>\n",
       "      <td>De Silveren Spiegel</td>\n",
       "      <td>Amsterdam</td>\n",
       "      <td>['Dutch', 'European', 'Vegetarian Friendly', '...</td>\n",
       "      <td>2.0</td>\n",
       "      <td>4.5</td>\n",
       "      <td>$$$$</td>\n",
       "      <td>52.35</td>\n",
       "      <td>4.9166</td>\n",
       "      <td>Netherlands</td>\n",
       "    </tr>\n",
       "    <tr>\n",
       "      <th>2</th>\n",
       "      <td>La Rive</td>\n",
       "      <td>Amsterdam</td>\n",
       "      <td>['Mediterranean', 'French', 'International', '...</td>\n",
       "      <td>3.0</td>\n",
       "      <td>4.5</td>\n",
       "      <td>$$$$</td>\n",
       "      <td>52.35</td>\n",
       "      <td>4.9166</td>\n",
       "      <td>Netherlands</td>\n",
       "    </tr>\n",
       "    <tr>\n",
       "      <th>3</th>\n",
       "      <td>Vinkeles</td>\n",
       "      <td>Amsterdam</td>\n",
       "      <td>['French', 'European', 'International', 'Conte...</td>\n",
       "      <td>4.0</td>\n",
       "      <td>5.0</td>\n",
       "      <td>$$$$</td>\n",
       "      <td>52.35</td>\n",
       "      <td>4.9166</td>\n",
       "      <td>Netherlands</td>\n",
       "    </tr>\n",
       "    <tr>\n",
       "      <th>4</th>\n",
       "      <td>Librije's Zusje Amsterdam</td>\n",
       "      <td>Amsterdam</td>\n",
       "      <td>['Dutch', 'European', 'International', 'Vegeta...</td>\n",
       "      <td>5.0</td>\n",
       "      <td>4.5</td>\n",
       "      <td>$$$$</td>\n",
       "      <td>52.35</td>\n",
       "      <td>4.9166</td>\n",
       "      <td>Netherlands</td>\n",
       "    </tr>\n",
       "  </tbody>\n",
       "</table>\n",
       "</div>"
      ],
      "text/plain": [
       "                         Name       City  \\\n",
       "0  Martine of Martine's Table  Amsterdam   \n",
       "1         De Silveren Spiegel  Amsterdam   \n",
       "2                     La Rive  Amsterdam   \n",
       "3                    Vinkeles  Amsterdam   \n",
       "4   Librije's Zusje Amsterdam  Amsterdam   \n",
       "\n",
       "                                       Cuisine Style  Ranking  Rating  \\\n",
       "0                    ['French', 'Dutch', 'European']      1.0     5.0   \n",
       "1  ['Dutch', 'European', 'Vegetarian Friendly', '...      2.0     4.5   \n",
       "2  ['Mediterranean', 'French', 'International', '...      3.0     4.5   \n",
       "3  ['French', 'European', 'International', 'Conte...      4.0     5.0   \n",
       "4  ['Dutch', 'European', 'International', 'Vegeta...      5.0     4.5   \n",
       "\n",
       "  Price Range  Latitude  Longitude      Country  \n",
       "0    $$ - $$$     52.35     4.9166  Netherlands  \n",
       "1        $$$$     52.35     4.9166  Netherlands  \n",
       "2        $$$$     52.35     4.9166  Netherlands  \n",
       "3        $$$$     52.35     4.9166  Netherlands  \n",
       "4        $$$$     52.35     4.9166  Netherlands  "
      ]
     },
     "execution_count": 5,
     "metadata": {},
     "output_type": "execute_result"
    }
   ],
   "source": [
    "cities = list(np.unique(df['City'].values))\n",
    "for c in cities:\n",
    "    try:\n",
    "        df.loc[df['City'] == c, 'Latitude'] = geoloc.loc[geoloc.city == c]['lat'].values[0]\n",
    "        df.loc[df['City'] == c, 'Longitude'] = geoloc.loc[geoloc.city == c]['lng'].values[0]\n",
    "        df.loc[df['City'] == c, 'Country'] = geoloc.loc[geoloc.city == c]['country'].values[0]\n",
    "    except:\n",
    "        pass\n",
    "    \n",
    "df.head()"
   ]
  },
  {
   "cell_type": "code",
   "execution_count": 6,
   "metadata": {},
   "outputs": [
    {
     "name": "stdout",
     "output_type": "stream",
     "text": [
      "<class 'pandas.core.frame.DataFrame'>\n",
      "Int64Index: 125527 entries, 0 to 1666\n",
      "Data columns (total 9 columns):\n",
      "Name             125527 non-null object\n",
      "City             125527 non-null object\n",
      "Cuisine Style    94176 non-null object\n",
      "Ranking          115876 non-null float64\n",
      "Rating           115897 non-null float64\n",
      "Price Range      77672 non-null object\n",
      "Latitude         125527 non-null float64\n",
      "Longitude        125527 non-null float64\n",
      "Country          125527 non-null object\n",
      "dtypes: float64(4), object(5)\n",
      "memory usage: 9.6+ MB\n"
     ]
    }
   ],
   "source": [
    "df = df.dropna(axis='index', how='all')\n",
    "df.info()"
   ]
  },
  {
   "cell_type": "code",
   "execution_count": 7,
   "metadata": {},
   "outputs": [
    {
     "name": "stdout",
     "output_type": "stream",
     "text": [
      "<class 'pandas.core.frame.DataFrame'>\n",
      "Int64Index: 94176 entries, 0 to 1666\n",
      "Data columns (total 9 columns):\n",
      "Name             94176 non-null object\n",
      "City             94176 non-null object\n",
      "Cuisine Style    94176 non-null object\n",
      "Ranking          89063 non-null float64\n",
      "Rating           89049 non-null float64\n",
      "Price Range      77672 non-null object\n",
      "Latitude         94176 non-null float64\n",
      "Longitude        94176 non-null float64\n",
      "Country          94176 non-null object\n",
      "dtypes: float64(4), object(5)\n",
      "memory usage: 7.2+ MB\n"
     ]
    }
   ],
   "source": [
    "df = df.dropna(axis='index', subset=['Cuisine Style'])\n",
    "df.info()"
   ]
  },
  {
   "cell_type": "code",
   "execution_count": 8,
   "metadata": {},
   "outputs": [
    {
     "data": {
      "text/plain": [
       "[0, 1, 2, 3, 4, 5]"
      ]
     },
     "execution_count": 8,
     "metadata": {},
     "output_type": "execute_result"
    }
   ],
   "source": [
    "df['Rating'] = (1*df['Rating']).fillna(0).astype(int)\n",
    "df = df[df['Rating'] >= 0]\n",
    "list(np.unique(np.array([x for x in df['Rating'].values if x != np.nan])))"
   ]
  },
  {
   "cell_type": "code",
   "execution_count": 9,
   "metadata": {},
   "outputs": [],
   "source": [
    "df['Ranking'] = (1*df['Ranking']).fillna(0).astype(int)"
   ]
  },
  {
   "cell_type": "code",
   "execution_count": 10,
   "metadata": {},
   "outputs": [],
   "source": [
    "#Binarizing 'Cuisine Style' column\n",
    "styles = set()\n",
    "for list1 in df['Cuisine Style'].values:\n",
    "    try:\n",
    "        styles = styles.union({s.replace(\"'\", \"\") for s in  list1.strip('][').split(', ')})\n",
    "    except:\n",
    "        pass\n",
    "    \n",
    "styles = sorted(list(styles))\n",
    "df_cs =  df[['Name','City']].copy()\n",
    "for style in styles:\n",
    "    df_cs[style] = df['Cuisine Style'].str.contains(\"'{}'\".format(style), na=False, regex=False)\n",
    "    df_cs.loc[df_cs[style] == False, style] = 0\n",
    "    df_cs.loc[df_cs[style] == True, style] = 1\n",
    "    \n",
    "df['Number of styles'] = df_cs[styles].sum(axis=1)\n",
    "df_cs['Number of styles'] = df_cs[styles].sum(axis=1)\n",
    "df.drop(['Cuisine Style'], axis=1, inplace=True)"
   ]
  },
  {
   "cell_type": "code",
   "execution_count": 11,
   "metadata": {},
   "outputs": [],
   "source": [
    "#Cleaning Price Range\n",
    "prange_dict = {1:'$', 2:'$$ - $$$', 3:'$$$$'}\n",
    "for k, v in prange_dict.items():\n",
    "    df.loc[df['Price Range'] == v, 'Price Range'] = k\n",
    "    \n",
    "df['Price Range'] = df['Price Range'].fillna(0)"
   ]
  },
  {
   "cell_type": "code",
   "execution_count": 13,
   "metadata": {
    "scrolled": false
   },
   "outputs": [
    {
     "data": {
      "text/plain": [
       "<seaborn.axisgrid.FacetGrid at 0x183e247a978>"
      ]
     },
     "execution_count": 13,
     "metadata": {},
     "output_type": "execute_result"
    },
    {
     "data": {
      "image/png": "[encoded data removed]",
      "text/plain": [
       "<Figure size 720x1080 with 6 Axes>"
      ]
     },
     "metadata": {
      "needs_background": "light"
     },
     "output_type": "display_data"
    }
   ],
   "source": [
    "# fig, ax = plt.subplots(figsize=(15, 15))\n",
    "sb.lmplot(data=df,\n",
    "          x='Number of styles',y='Price Range',  \n",
    "#           hue='Rating', \n",
    "          col='Rating', col_wrap=2,\n",
    "          fit_reg=True)"
   ]
  },
  {
   "cell_type": "code",
   "execution_count": null,
   "metadata": {},
   "outputs": [],
   "source": [
    "attribute_corr = df[[a for a in df.columns if a not in styles]].corr()\n",
    "fig, ax = plt.subplots(figsize=(9, 4))\n",
    "sb.heatmap(attribute_corr, ax=ax)"
   ]
  },
  {
   "cell_type": "code",
   "execution_count": null,
   "metadata": {},
   "outputs": [],
   "source": [
    "#Analysis by city\n",
    "\n",
    "df_city = df.groupby('City').mean()\n",
    "df_city['Restaurant Count'] = df.groupby('City').count()['Rating']\n",
    "df_city['Number of styles'] = df_cs.groupby('City').max()['Number of styles'].astype(int)\n",
    "df_city.head()"
   ]
  },
  {
   "cell_type": "code",
   "execution_count": null,
   "metadata": {},
   "outputs": [],
   "source": [
    "df_city['Restaurant Count'] = (df_city['Restaurant Count'] - df_city['Restaurant Count'].min())/(df_city['Restaurant Count'].max()-df_city['Restaurant Count'].min())\n",
    "df_city['Number of styles'] = (df_city['Number of styles'] - df_city['Number of styles'].min())/(df_city['Number of styles'].max()-df_city['Number of styles'].min())\n",
    "df_city['Rating'] = (df_city['Rating'] - df_city['Rating'].min())/(df_city['Rating'].max()-df_city['Rating'].min())\n",
    "ax = df_city.plot.barh(x='City Code', y=['Rating','Restaurant Count', 'Number of styles'], figsize=(18, 18))\n",
    "ax = ax.set_yticklabels(df_city.index)"
   ]
  },
  {
   "cell_type": "code",
   "execution_count": null,
   "metadata": {},
   "outputs": [],
   "source": [
    "df[['Ranking', 'Rating', 'Price Range']].info()"
   ]
  },
  {
   "cell_type": "code",
   "execution_count": null,
   "metadata": {},
   "outputs": [],
   "source": [
    "df_city_pp = df.groupby('City').median()\n",
    "df_city_pp.index.name = None\n",
    "df_city_pp['City'] = df_city_pp.index\n",
    "for c in ['Rating', 'Price Range']:\n",
    "    df_city_pp[c] = df_city_pp[c].astype(float)\n",
    "# df_city_pp.drop(['index'], axis=1, inplace=True)\n",
    "df_city_pp.head()"
   ]
  },
  {
   "cell_type": "code",
   "execution_count": null,
   "metadata": {},
   "outputs": [],
   "source": [
    "g=sb.pairplot(df_city_pp[['Rating', 'Price Range', 'City']], \n",
    "            hue = 'Price Range', diag_kind='hist')\n",
    "g.fig.set_size_inches(15,9)"
   ]
  },
  {
   "cell_type": "code",
   "execution_count": null,
   "metadata": {},
   "outputs": [],
   "source": [
    "fig, ax = plt.subplots(figsize=(15, 15))\n",
    "sb.heatmap(df_city_pp[['Rating', 'Price Range']], annot=True, ax=ax)"
   ]
  },
  {
   "cell_type": "code",
   "execution_count": null,
   "metadata": {},
   "outputs": [],
   "source": []
  }
 ],
 "metadata": {
  "kernelspec": {
   "display_name": "Python 3",
   "language": "python",
   "name": "python3"
  },
  "language_info": {
   "codemirror_mode": {
    "name": "ipython",
    "version": 3
   },
   "file_extension": ".py",
   "mimetype": "text/x-python",
   "name": "python",
   "nbconvert_exporter": "python",
   "pygments_lexer": "ipython3",
   "version": "3.6.8"
  }
 },
 "nbformat": 4,
 "nbformat_minor": 2
}
